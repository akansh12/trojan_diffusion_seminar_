{
 "cells": [
  {
   "cell_type": "code",
   "execution_count": null,
   "metadata": {},
   "outputs": [],
   "source": [
    "#| hide\n",
    "from trojan_diffusion_seminar_.core import *"
   ]
  },
  {
   "cell_type": "markdown",
   "metadata": {},
   "source": [
    "<figure style=\"text-align:center\">\n",
    "  <img\n",
    "  src=\"./images/intro_slide_img.jpg\"\n",
    "  alt=\"Advanced Topics in Diffusion Modeling - From Theory to Implementation UDS WS 2023\"\n",
    "  width=\"100%\">\n",
    "</figure>\n",
    "\n",
    "> Advanced Topics in Diffusion Modeling - From Theory to Implementation WS 2023-24 (University of Saarland)"
   ]
  },
  {
   "cell_type": "markdown",
   "metadata": {},
   "source": [
    "## TrojDiff: Trojan Attacks on Diffusion Models with Diverse Targets\n"
   ]
  },
  {
   "cell_type": "markdown",
   "metadata": {},
   "source": [
    "## How to use"
   ]
  },
  {
   "cell_type": "markdown",
   "metadata": {},
   "source": [
    "This is main Seminar notebook."
   ]
  },
  {
   "cell_type": "code",
   "execution_count": null,
   "metadata": {},
   "outputs": [],
   "source": []
  }
 ],
 "metadata": {
  "kernelspec": {
   "display_name": "python3",
   "language": "python",
   "name": "python3"
  }
 },
 "nbformat": 4,
 "nbformat_minor": 4
}
