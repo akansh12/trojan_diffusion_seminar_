{
 "cells": [
  {
   "cell_type": "markdown",
   "metadata": {},
   "source": [
    "<figure style=\"text-align:center\">\n",
    "  <img\n",
    "  src=\"./images/intro_slide_img.jpg\"\n",
    "  alt=\"Advanced Topics in Diffusion Modeling - From Theory to Implementation UDS WS 2023\"\n",
    "  width=\"100%\">\n",
    "</figure>"
   ]
  },
  {
   "cell_type": "markdown",
   "metadata": {},
   "source": [
    "> Course Name: [Advanced Topics in Diffusion Modeling - From Theory to Implementation WS 2023-24 (University of Saarland)](https://mosi.uni-saarland.de/lectures/23_2_deep_diffusion/)\n",
    "\n",
    "> Organizers - Dr. Gerrit Großmann - Prof. Dr. Verena Wolf"
   ]
  },
  {
   "cell_type": "markdown",
   "metadata": {},
   "source": [
    "> Tutorial Author : [Akansh Maurya](https://akansh12.github.io/)"
   ]
  },
  {
   "cell_type": "markdown",
   "metadata": {},
   "source": [
    "## TrojDiff: Trojan Attacks on Diffusion Models with Diverse Targets (CVPR 2023)\n"
   ]
  },
  {
   "cell_type": "markdown",
   "metadata": {},
   "source": [
    "Paper Link: [TrojDiff: Trojan Attacks on Diffusion Models with Diverse Targets (CVPR 2023)](https://openaccess.thecvf.com/content/CVPR2023/papers/Chen_TrojDiff_Trojan_Attacks_on_Diffusion_Models_With_Diverse_Targets_CVPR_2023_paper.pdf) by Weixin Chen, Dawn Song, Bo Li\n",
    "\n",
    "Seminar presentation Link by Akansh Maurya: [Presentation](https://docs.google.com/presentation/d/1CktLNGnoMf4NUnueRCSHKHaeX85XuKcVA4hMRti1xjc/edit?usp=sharing)"
   ]
  },
  {
   "cell_type": "markdown",
   "metadata": {},
   "source": [
    "## How to Read"
   ]
  },
  {
   "cell_type": "markdown",
   "metadata": {},
   "source": [
    "This is main Seminar notebook."
   ]
  },
  {
   "cell_type": "code",
   "execution_count": null,
   "metadata": {},
   "outputs": [],
   "source": []
  }
 ],
 "metadata": {
  "kernelspec": {
   "display_name": "python3",
   "language": "python",
   "name": "python3"
  }
 },
 "nbformat": 4,
 "nbformat_minor": 4
}
